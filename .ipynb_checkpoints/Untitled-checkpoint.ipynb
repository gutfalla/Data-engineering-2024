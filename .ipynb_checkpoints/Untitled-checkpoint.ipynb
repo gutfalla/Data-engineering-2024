{
 "cells": [
  {
   "cell_type": "code",
   "execution_count": 1,
   "id": "270d3af3-cb8d-4c40-acd9-358146d4b7fc",
   "metadata": {},
   "outputs": [
    {
     "name": "stdout",
     "output_type": "stream",
     "text": [
      "helloworld in codespaces\n"
     ]
    }
   ],
   "source": [
    "print('helloworld in codespaces')"
   ]
  },
  {
   "cell_type": "code",
   "execution_count": null,
   "id": "a3efdce3-40a0-4786-ba54-7bea91977f71",
   "metadata": {},
   "outputs": [],
   "source": []
  }
 ],
 "metadata": {
  "kernelspec": {
   "display_name": "Python 3 (ipykernel)",
   "language": "python",
   "name": "python3"
  },
  "language_info": {
   "codemirror_mode": {
    "name": "ipython",
    "version": 3
   },
   "file_extension": ".py",
   "mimetype": "text/x-python",
   "name": "python",
   "nbconvert_exporter": "python",
   "pygments_lexer": "ipython3",
   "version": "3.10.13"
  }
 },
 "nbformat": 4,
 "nbformat_minor": 5
}
